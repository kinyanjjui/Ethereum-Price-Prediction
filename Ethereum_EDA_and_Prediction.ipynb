{
  "nbformat": 4,
  "nbformat_minor": 0,
  "metadata": {
    "colab": {
      "name": "Ethereum EDA and Prediction.ipynb",
      "private_outputs": true,
      "provenance": [],
      "collapsed_sections": [],
      "mount_file_id": "1C1RpjG-ULIEGuI9Ae1vI0mQbEsumeyUE",
      "authorship_tag": "ABX9TyNZ3umKPrm8c8WFCfMcrKVM"
    },
    "kernelspec": {
      "name": "python3",
      "display_name": "Python 3"
    },
    "language_info": {
      "name": "python"
    }
  },
  "cells": [
    {
      "cell_type": "code",
      "execution_count": null,
      "metadata": {
        "id": "ZvMdduZSKMfe"
      },
      "outputs": [],
      "source": [
        "#Ethereum: a decentralized open-source blockhain featuring a smart contract functionality\n",
        "#ETH native cryptocurrency"
      ]
    },
    {
      "cell_type": "markdown",
      "source": [
        "Required Libraries"
      ],
      "metadata": {
        "id": "lZQe5iR1O9Yj"
      }
    },
    {
      "cell_type": "code",
      "source": [
        "#Data Pre-processing packages\n",
        "import numpy as np\n",
        "import pandas as pd\n",
        "from datetime import datetime"
      ],
      "metadata": {
        "id": "vFY8QqoePFtd"
      },
      "execution_count": null,
      "outputs": []
    },
    {
      "cell_type": "code",
      "source": [
        "#Data Visualization Libraries\n",
        "import seaborn as sns\n",
        "sns.set(rc={'figure.figsize': (10,6)})\n",
        "custom_colors = ['#78579a','#f1b032','#8fce00']\n",
        "\n",
        "#matplotlib\n",
        "import matplotlib.pyplot as plt\n",
        "%matplotlib inline\n",
        "import matplotlib.image as mpimg\n",
        "\n",
        "#colorama\n",
        "!pip install colorama\n",
        "from colorama import Fore, Back,Style\n",
        "y_ =Fore.LIGHTYELLOW_EX\n",
        "m_ =Fore.RED\n",
        "\n",
        "#time series analysis packages\n",
        "from statsmodels.tsa.seasonal import seasonal_decompose\n",
        "from statsmodels.tsa.stattools import kpss\n",
        "from statsmodels.tsa.stattools import adfuller\n",
        "from statsmodels.graphics.tsaplots import plot_acf, plot_pacf\n",
        "\n",
        "#Facebook Prohet Packages\n",
        "from fbprophet import Prophet\n",
        "from fbprophet.diagnostics  import cross_validation, performance_metrics\n",
        "from fbprophet.plot import add_changepoints_to_plot, plot_cross_validation_metric\n"
      ],
      "metadata": {
        "id": "lvC6Ao7sPcwX"
      },
      "execution_count": null,
      "outputs": []
    },
    {
      "cell_type": "code",
      "source": [
        "data = pd.read_csv('/content/drive/MyDrive/DataSets/Ethereum Historical Data.csv')"
      ],
      "metadata": {
        "id": "dAbjdK0MQV-2"
      },
      "execution_count": null,
      "outputs": []
    },
    {
      "cell_type": "markdown",
      "source": [
        "Dataset Overview"
      ],
      "metadata": {
        "id": "8i-PgsrN1Cxo"
      }
    },
    {
      "cell_type": "code",
      "source": [
        "print(f'{m_}Total Records:{y_}{data.shape}\\n')\n",
        "print(f'{m_}DataTypes of data columns: \\n{y_}{data.dtypes}')"
      ],
      "metadata": {
        "id": "pf_5d0MOwE02"
      },
      "execution_count": null,
      "outputs": []
    },
    {
      "cell_type": "code",
      "source": [
        "data.info()"
      ],
      "metadata": {
        "id": "k7y8P3qDws-_"
      },
      "execution_count": null,
      "outputs": []
    },
    {
      "cell_type": "code",
      "source": [
        "data.head(10)"
      ],
      "metadata": {
        "id": "BXjXQnQF1wRp"
      },
      "execution_count": null,
      "outputs": []
    },
    {
      "cell_type": "code",
      "source": [
        "#converting of the date column to datetime format and sorting the values by date\n",
        "data['Date']=pd.to_datetime(data['Date'], infer_datetime_format=True, format='%y-%m-%d')\n",
        "data.sort_values(by='Date',inplace=True)"
      ],
      "metadata": {
        "id": "Hq1_i-Ie2IH5"
      },
      "execution_count": null,
      "outputs": []
    },
    {
      "cell_type": "code",
      "source": [
        "data.rename(columns={'Close':'Price'}, inplace=True)\n",
        "data.head()"
      ],
      "metadata": {
        "id": "UtausyX128DB"
      },
      "execution_count": null,
      "outputs": []
    },
    {
      "cell_type": "code",
      "source": [
        "missed = pd.DataFrame()\n",
        "missed['column'] = data.columns\n",
        "\n",
        "missed['percent'] = [round(100*data[col].isnull().sum()/len(data), 2) for col in data.columns]\n",
        "missed.sort_values('percent', ascending=False, inplace=True)\n",
        "missed\n",
        "#no missing values"
      ],
      "metadata": {
        "id": "IdhlkBp13_31"
      },
      "execution_count": null,
      "outputs": []
    },
    {
      "cell_type": "markdown",
      "source": [
        "Feature Distribution"
      ],
      "metadata": {
        "id": "hCrVNAI9Mkbr"
      }
    },
    {
      "cell_type": "code",
      "source": [
        "#visualizing distribution of key variables like opening price, closing price and change in\n",
        "#Eth\n",
        "\n",
        "def triple_plot(x,title, c):\n",
        "  fig, ax = plt.subplots(3,1, figsize=(20,10), sharex=True)\n",
        "  sns.distplot(x, ax=ax[0], color=c)\n",
        "  ax[0].set(xlabel=None)\n",
        "  ax[0].set_title('Histogram + KDE')\n",
        "  sns.boxplot(x, ax=ax[1], color=c)\n",
        "  ax[1].set(xlabel=None)\n",
        "  ax[1].set_title('Boxplot')\n",
        "  sns.violinplot(x, ax=ax[2], color=c)\n",
        "  ax[2].set(xlabel=None)\n",
        "  ax[2].set_title('Violin Plot')\n",
        "  fig.suptitle(title, fontsize=26)\n",
        "  plt.tight_layout(pad=3.0)\n",
        "  plt.show()\n",
        "\n",
        "triple_plot(data['Price'], 'Distribution of Price', custom_colors[0])\n"
      ],
      "metadata": {
        "id": "KOaMDrAs-Uy8"
      },
      "execution_count": null,
      "outputs": []
    },
    {
      "cell_type": "code",
      "source": [
        "triple_plot(data['Open'], 'Distribution of Opening Price', custom_colors[1])"
      ],
      "metadata": {
        "id": "6YYVfw0kP4Vp"
      },
      "execution_count": null,
      "outputs": []
    },
    {
      "cell_type": "code",
      "source": [
        "triple_plot(data[\"High\"], 'Distribution of Highest Price', custom_colors[2])"
      ],
      "metadata": {
        "id": "xNZZEXgvdX1O"
      },
      "execution_count": null,
      "outputs": []
    },
    {
      "cell_type": "code",
      "source": [
        "triple_plot(data['Low'], 'Distribution of Lowest Price', custom_colors[0])"
      ],
      "metadata": {
        "id": "fre1LyRFdwMP"
      },
      "execution_count": null,
      "outputs": []
    },
    {
      "cell_type": "code",
      "source": [
        "triple_plot(data['Volume'], 'Distribution of Volume', custom_colors[2])"
      ],
      "metadata": {
        "id": "K5S7SLh0eQPi"
      },
      "execution_count": null,
      "outputs": []
    },
    {
      "cell_type": "markdown",
      "source": [
        "Correlation Analysis"
      ],
      "metadata": {
        "id": "ppQqO0Pcfv1t"
      }
    },
    {
      "cell_type": "code",
      "source": [
        "plt.figure(figsize=(10,10))\n",
        "corr = data[data.columns[1:]].corr()\n",
        "mask = np.triu(np.ones_like(corr, dtype=bool))\n",
        "sns.heatmap(corr, mask=mask, cmap='coolwarm', vmax=0.3, center=0,\n",
        "            square=True, linewidths=.5, annot=True,)\n",
        "plt.show()"
      ],
      "metadata": {
        "id": "qK-lbUCRfyEu"
      },
      "execution_count": null,
      "outputs": []
    },
    {
      "cell_type": "code",
      "source": [
        "corr\n"
      ],
      "metadata": {
        "id": "CnrSdyeZ4CDA"
      },
      "execution_count": null,
      "outputs": []
    },
    {
      "cell_type": "markdown",
      "source": [
        "Time Series Analysis and Prediction using Prophet"
      ],
      "metadata": {
        "id": "ImawcnJZEP8V"
      }
    },
    {
      "cell_type": "code",
      "source": [
        "plt.figure(figsize=(20,15))\n",
        "series = data[['Date','Price']]\n",
        "series.set_index('Date', inplace=True)\n",
        "srs = series['Price']\n",
        "result = seasonal_decompose(srs, model='additive',freq=1)\n",
        "result.plot()"
      ],
      "metadata": {
        "id": "3fwBcWpSZvlc"
      },
      "execution_count": null,
      "outputs": []
    },
    {
      "cell_type": "code",
      "source": [
        "#preparing input into Prophet\n",
        "prophet_df = data[['Date','Price']]\n",
        "prophet_df.rename(columns = {'Date':'ds',\"Price\":'y'}, inplace=True)\n",
        "prophet_df.head()"
      ],
      "metadata": {
        "id": "KbXtIeJcEuUe"
      },
      "execution_count": null,
      "outputs": []
    },
    {
      "cell_type": "code",
      "source": [
        "#creating and fitting the prophet model with default values\n",
        "prophet_basic = Prophet()\n",
        "prophet_basic.fit(prophet_df[['ds','y']])\n"
      ],
      "metadata": {
        "id": "uyYElkyYazGG"
      },
      "execution_count": null,
      "outputs": []
    },
    {
      "cell_type": "markdown",
      "source": [
        "Predicting Future Values"
      ],
      "metadata": {
        "id": "pzN6352wA1nn"
      }
    },
    {
      "cell_type": "code",
      "source": [
        "#Extending 1 year(365 days) into the future\n",
        "future = prophet_basic.make_future_dataframe(periods=365, freq='D')\n",
        "future.tail(5)"
      ],
      "metadata": {
        "id": "9ViWyOdd2p_c"
      },
      "execution_count": null,
      "outputs": []
    },
    {
      "cell_type": "code",
      "source": [
        "#prediction and plotting of predicted data\n",
        "forecast = prophet_basic.predict(future)\n",
        "pred_fig = prophet_basic.plot(forecast)"
      ],
      "metadata": {
        "id": "voWV4dOMBlHD"
      },
      "execution_count": null,
      "outputs": []
    },
    {
      "cell_type": "code",
      "source": [
        "#plotting forecasted components: Trends and Seasonality\n",
        "comp_fig = prophet_basic.plot_components(forecast)"
      ],
      "metadata": {
        "id": "MIbFRpzXDBMf"
      },
      "execution_count": null,
      "outputs": []
    },
    {
      "cell_type": "markdown",
      "source": [
        "Adding of Changepoints to Prophet Prediction"
      ],
      "metadata": {
        "id": "7anlchhmD3Wo"
      }
    },
    {
      "cell_type": "code",
      "source": [
        "#Changepoints: points of abrupt changes in the time-series trajectory\n",
        "pred_fig = prophet_basic.plot(forecast)\n",
        "cp_ = add_changepoints_to_plot(pred_fig.gca(), prophet_basic, forecast, cp_color ='#f1b032')"
      ],
      "metadata": {
        "id": "D32TVlDbD_9m"
      },
      "execution_count": null,
      "outputs": []
    },
    {
      "cell_type": "code",
      "source": [
        "print(f'{m_}ChangePoints:\\n {y_}{prophet_basic.changepoints}\\n')"
      ],
      "metadata": {
        "id": "9hwQqEIHGn3f"
      },
      "execution_count": null,
      "outputs": []
    },
    {
      "cell_type": "markdown",
      "source": [
        "Adding Multiple Regressors to the Prophet Model"
      ],
      "metadata": {
        "id": "QwLzQHS8ISaF"
      }
    },
    {
      "cell_type": "code",
      "source": [
        "prophet_df['Open'] = data['Open']\n",
        "prophet_df['High'] = data['High']\n",
        "prophet_df['Volume'] = data['Volume']\n",
        "prophet_df['Low'] = data['Low']\n",
        "\n",
        "#creating training and test sets\n",
        "prophet_df = prophet_df.dropna()\n",
        "train_X = prophet_df[:round(0.8*len(prophet_df))]\n",
        "test_X = prophet_df[round(0.8*len(prophet_df)):]"
      ],
      "metadata": {
        "id": "0dSoWTVYIXsP"
      },
      "execution_count": null,
      "outputs": []
    },
    {
      "cell_type": "code",
      "source": [
        "pro_regressor = Prophet()\n",
        "pro_regressor.add_regressor('Open')\n",
        "pro_regressor.add_regressor('High')\n",
        "pro_regressor.add_regressor('Low')\n",
        "pro_regressor.add_regressor('Volume')"
      ],
      "metadata": {
        "id": "TgugQs8-J-yx"
      },
      "execution_count": null,
      "outputs": []
    },
    {
      "cell_type": "code",
      "source": [
        "#fitting the data\n",
        "pro_regressor.fit(train_X)\n",
        "future_data = pro_regressor.make_future_dataframe(periods=365,freq='D')"
      ],
      "metadata": {
        "id": "bE_5uW8mKL9j"
      },
      "execution_count": null,
      "outputs": []
    },
    {
      "cell_type": "code",
      "source": [
        "#predicting against the test set\n",
        "forecast_data = pro_regressor.predict(test_X)\n",
        "pro_regressor.plot(forecast_data)"
      ],
      "metadata": {
        "id": "G0tyTysWMPme"
      },
      "execution_count": null,
      "outputs": []
    },
    {
      "cell_type": "markdown",
      "source": [
        "Cross Validation and Running Performance Tests on the Model"
      ],
      "metadata": {
        "id": "SKtGKgPm1uNH"
      }
    },
    {
      "cell_type": "code",
      "source": [
        "#Using the first 700 days as training data; as the first cutoff \n",
        "#cross validating using half-year sets for every alternate 90-day period\n",
        "df_cv = cross_validation(pro_regressor,initial='700 days', period='90 days',\n",
        "                         horizon='180 days')\n",
        "\n",
        "df_cv.head(10)"
      ],
      "metadata": {
        "id": "xagtm-e0MvME"
      },
      "execution_count": null,
      "outputs": []
    },
    {
      "cell_type": "code",
      "source": [
        "pm =performance_metrics(df_cv, rolling_window=0.1)\n",
        "display(pm.head(), pm.tail())\n",
        "\n",
        "#plotting mape to see if it falls below the .15 threshold\n",
        "fig = plot_cross_validation_metric(df_cv, metric='mape', rolling_window=0.1)\n",
        "plt.show()"
      ],
      "metadata": {
        "id": "bqK5a-zL90tX"
      },
      "execution_count": null,
      "outputs": []
    }
  ]
}